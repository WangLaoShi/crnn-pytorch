{
 "cells": [
  {
   "cell_type": "code",
   "execution_count": 1,
   "metadata": {},
   "outputs": [],
   "source": [
    "from pathlib import Path\n",
    "from zipfile import ZipFile\n",
    "\n",
    "import sys\n",
    "sys.path.append('../loader')\n",
    "\n",
    "from casia.image import POT"
   ]
  },
  {
   "cell_type": "code",
   "execution_count": 2,
   "metadata": {},
   "outputs": [
    {
     "data": {
      "text/plain": [
       "[WindowsPath('D:/datasets/OCR/CASIA/data/OLHWDB1.0test_pot.zip'),\n",
       " WindowsPath('D:/datasets/OCR/CASIA/data/OLHWDB1.0train_pot.zip'),\n",
       " WindowsPath('D:/datasets/OCR/CASIA/data/OLHWDB1.1trn_pot.zip'),\n",
       " WindowsPath('D:/datasets/OCR/CASIA/data/OLHWDB1.1tst_pot.zip')]"
      ]
     },
     "execution_count": 2,
     "metadata": {},
     "output_type": "execute_result"
    }
   ],
   "source": [
    "root = Path('D:/datasets/OCR/CASIA/data')  # CASI 数据集所在根目录\n",
    "\n",
    "image_s1 = list(root.glob('*pot*')) # POT 图片的源文件\n",
    "image_s1"
   ]
  },
  {
   "cell_type": "code",
   "execution_count": 3,
   "metadata": {
    "scrolled": true
   },
   "outputs": [
    {
     "data": {
      "text/plain": [
       "['1287-c.pot', '1288-c.pot', '1289-c.pot', '1290-c.pot', '1291-c.pot']"
      ]
     },
     "execution_count": 3,
     "metadata": {},
     "output_type": "execute_result"
    }
   ],
   "source": [
    "Z = ZipFile(image_s1[3])\n",
    "Z.namelist()[:5]"
   ]
  },
  {
   "cell_type": "markdown",
   "metadata": {},
   "source": [
    "计算 OLHWDB1.1tst_pot 的样本个数："
   ]
  },
  {
   "cell_type": "code",
   "execution_count": 4,
   "metadata": {
    "scrolled": true
   },
   "outputs": [
    {
     "data": {
      "text/plain": [
       "False"
      ]
     },
     "execution_count": 4,
     "metadata": {},
     "output_type": "execute_result"
    }
   ],
   "source": [
    "Z = ZipFile(image_s1[-1])\n",
    "for set_name in Z.namelist():\n",
    "    pot = POT(Z, set_name)\n",
    "    for tags, sizes in pot:\n",
    "        ...\n",
    "ss = sum(sizes)\n",
    "ss == 898573"
   ]
  },
  {
   "cell_type": "markdown",
   "metadata": {},
   "source": [
    "`gb18030` 是 `gbk` 或者 `gb2312` 的超集："
   ]
  },
  {
   "cell_type": "code",
   "execution_count": 5,
   "metadata": {},
   "outputs": [
    {
     "data": {
      "text/plain": [
       "('┬', '┬')"
      ]
     },
     "execution_count": 5,
     "metadata": {},
     "output_type": "execute_result"
    }
   ],
   "source": [
    "'┬'.encode('gb18030').decode('gbk'), '┬'.encode('gb18030').decode('gb2312')"
   ]
  },
  {
   "cell_type": "markdown",
   "metadata": {},
   "source": [
    "`big5` 与 `big5hkscs` 是繁体字的编码方式："
   ]
  },
  {
   "cell_type": "code",
   "execution_count": 6,
   "metadata": {
    "scrolled": true
   },
   "outputs": [
    {
     "data": {
      "text/plain": [
       "('房', '房')"
      ]
     },
     "execution_count": 6,
     "metadata": {},
     "output_type": "execute_result"
    }
   ],
   "source": [
    "'┬'.encode('gb18030').decode('big5'), '┬'.encode('gb18030').decode('big5hkscs')"
   ]
  },
  {
   "cell_type": "code",
   "execution_count": 7,
   "metadata": {},
   "outputs": [
    {
     "data": {
      "text/plain": [
       "'役'"
      ]
     },
     "execution_count": 7,
     "metadata": {},
     "output_type": "execute_result"
    }
   ],
   "source": [
    "'\\ue7ae'.encode('gb18030').decode('big5')"
   ]
  },
  {
   "cell_type": "code",
   "execution_count": null,
   "metadata": {},
   "outputs": [],
   "source": []
  }
 ],
 "metadata": {
  "kernelspec": {
   "display_name": "Python 3",
   "language": "python",
   "name": "python3"
  },
  "language_info": {
   "codemirror_mode": {
    "name": "ipython",
    "version": 3
   },
   "file_extension": ".py",
   "mimetype": "text/x-python",
   "name": "python",
   "nbconvert_exporter": "python",
   "pygments_lexer": "ipython3",
   "version": "3.7.4"
  }
 },
 "nbformat": 4,
 "nbformat_minor": 2
}
