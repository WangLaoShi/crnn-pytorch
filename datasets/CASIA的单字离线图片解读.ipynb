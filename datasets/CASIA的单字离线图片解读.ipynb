{
 "cells": [
  {
   "cell_type": "code",
   "execution_count": 1,
   "metadata": {},
   "outputs": [
    {
     "data": {
      "text/plain": [
       "[WindowsPath('D:/datasets/OCR/CASIA/data/HWDB1.0trn_gnt.zip'),\n",
       " WindowsPath('D:/datasets/OCR/CASIA/data/HWDB1.0tst_gnt.zip'),\n",
       " WindowsPath('D:/datasets/OCR/CASIA/data/HWDB1.1trn_gnt.zip'),\n",
       " WindowsPath('D:/datasets/OCR/CASIA/data/HWDB1.1tst_gnt.zip')]"
      ]
     },
     "execution_count": 1,
     "metadata": {},
     "output_type": "execute_result"
    }
   ],
   "source": [
    "from pathlib import Path\n",
    "import struct\n",
    "import zipfile\n",
    "import numpy as np\n",
    "\n",
    "%matplotlib inline\n",
    "from matplotlib import pyplot as plt\n",
    "\n",
    "root = 'D:/datasets/OCR/CASIA/data'  # CASI 数据集所在根目录\n",
    "root = Path(root)\n",
    "\n",
    "list(root.glob('*gnt*')) # 图片的源文件"
   ]
  },
  {
   "cell_type": "markdown",
   "metadata": {},
   "source": [
    "## GNT\n",
    "\n",
    "载入 GNT 类："
   ]
  },
  {
   "cell_type": "code",
   "execution_count": 2,
   "metadata": {},
   "outputs": [],
   "source": [
    "import sys\n",
    "sys.path.append('../loader')\n",
    "\n",
    "from casia.image import GNT"
   ]
  },
  {
   "cell_type": "markdown",
   "metadata": {},
   "source": [
    "选择其中一个图片数据集："
   ]
  },
  {
   "cell_type": "code",
   "execution_count": 3,
   "metadata": {},
   "outputs": [
    {
     "data": {
      "text/plain": [
       "['1001-c.gnt',\n",
       " '1002-c.gnt',\n",
       " '1003-c.gnt',\n",
       " '1004-c.gnt',\n",
       " '1005-c.gnt',\n",
       " '1006-c.gnt',\n",
       " '1007-c.gnt',\n",
       " '1008-c.gnt',\n",
       " '1009-c.gnt',\n",
       " '1010-c.gnt']"
      ]
     },
     "execution_count": 3,
     "metadata": {},
     "output_type": "execute_result"
    }
   ],
   "source": [
    "Z = zipfile.ZipFile(root/'HWDB1.1trn_gnt.zip')\n",
    "Z.namelist()[:10]"
   ]
  },
  {
   "cell_type": "markdown",
   "metadata": {},
   "source": [
    "选择其中一个人写的图片数据集："
   ]
  },
  {
   "cell_type": "code",
   "execution_count": 4,
   "metadata": {},
   "outputs": [],
   "source": [
    "set_name = '1077-c.gnt'\n",
    "gnt = GNT(Z, set_name)\n",
    "# 获取其中的一张图片及其标签\n",
    "for imgs, labels in gnt:\n",
    "    break"
   ]
  },
  {
   "cell_type": "code",
   "execution_count": 5,
   "metadata": {
    "scrolled": true
   },
   "outputs": [],
   "source": [
    "plt.rcParams['font.sans-serif'] = ['SimHei']  # 用来正常显示中文标签\n",
    "plt.rcParams['axes.unicode_minus'] = False  # 用来正常显示负号"
   ]
  },
  {
   "cell_type": "markdown",
   "metadata": {},
   "source": [
    "可视化："
   ]
  },
  {
   "cell_type": "code",
   "execution_count": 6,
   "metadata": {
    "scrolled": false
   },
   "outputs": [
    {
     "data": {
      "image/png": "[encoded data removed]",
      "text/plain": [
       "<Figure size 432x288 with 1 Axes>"
      ]
     },
     "metadata": {
      "needs_background": "light"
     },
     "output_type": "display_data"
    }
   ],
   "source": [
    "plt.imshow(imgs/255)\n",
    "plt.title(labels)\n",
    "plt.show()"
   ]
  },
  {
   "cell_type": "markdown",
   "metadata": {},
   "source": [
    "统计样本个数："
   ]
  },
  {
   "cell_type": "code",
   "execution_count": 7,
   "metadata": {},
   "outputs": [
    {
     "data": {
      "text/plain": [
       "3727"
      ]
     },
     "execution_count": 7,
     "metadata": {},
     "output_type": "execute_result"
    }
   ],
   "source": [
    "labels = np.asanyarray([l for _, l in gnt])\n",
    "# 数据个数\n",
    "labels.shape[0]"
   ]
  },
  {
   "cell_type": "markdown",
   "metadata": {},
   "source": [
    "## 图片的预处理"
   ]
  },
  {
   "cell_type": "code",
   "execution_count": 8,
   "metadata": {},
   "outputs": [],
   "source": [
    "from PIL import Image\n",
    "\n",
    "\n",
    "def resize_and_normalize_image(img):\n",
    "    # 补方\n",
    "    pad_size = abs(img.shape[0]-img.shape[1]) // 2\n",
    "    if img.shape[0] < img.shape[1]:\n",
    "        pad_dims = ((pad_size, pad_size), (0, 0))\n",
    "    else:\n",
    "        pad_dims = ((0, 0), (pad_size, pad_size))\n",
    "    img = np.lib.pad(img, pad_dims, mode='constant', constant_values=255)\n",
    "    # 缩放\n",
    "    img = Image.fromarray(img).resize((64 - 4*2, 64 - 4*2))  # 也可以改为 48*48\n",
    "    img = np.lib.pad(img, ((4, 4), (4, 4)),\n",
    "                     mode='constant', constant_values=255)\n",
    "    assert img.shape == (64, 64)\n",
    "\n",
    "    img = img.flatten()\n",
    "    # 像素值范围-1到1\n",
    "    img = (img - 128) / 128\n",
    "    return img\n",
    "\n",
    "\n",
    "def convert_to_one_hot(char):\n",
    "    '''one hot'''\n",
    "    vector = np.zeros(len(char_set))\n",
    "    vector[char_set.index(char)] = 1\n",
    "    return vector"
   ]
  },
  {
   "cell_type": "code",
   "execution_count": 9,
   "metadata": {},
   "outputs": [
    {
     "data": {
      "image/png": "[encoded data removed]",
      "text/plain": [
       "<Figure size 432x288 with 1 Axes>"
      ]
     },
     "metadata": {
      "needs_background": "light"
     },
     "output_type": "display_data"
    }
   ],
   "source": [
    "im = resize_and_normalize_image(imgs)\n",
    "\n",
    "plt.imshow(im.reshape(64, 64), cmap='gray'); "
   ]
  },
  {
   "cell_type": "code",
   "execution_count": 10,
   "metadata": {},
   "outputs": [
    {
     "data": {
      "image/png": "[encoded data removed]",
      "text/plain": [
       "<Figure size 432x288 with 1 Axes>"
      ]
     },
     "metadata": {
      "needs_background": "light"
     },
     "output_type": "display_data"
    },
    {
     "data": {
      "image/png": "[encoded data removed]",
      "text/plain": [
       "<Figure size 432x288 with 1 Axes>"
      ]
     },
     "metadata": {
      "needs_background": "light"
     },
     "output_type": "display_data"
    },
    {
     "data": {
      "image/png": "[encoded data removed]",
      "text/plain": [
       "<Figure size 432x288 with 1 Axes>"
      ]
     },
     "metadata": {
      "needs_background": "light"
     },
     "output_type": "display_data"
    }
   ],
   "source": [
    "from cv2 import cv2\n",
    "\n",
    "# 中值滤波 过滤噪声，保留边缘信息\n",
    "plt.imshow(imgs, cmap='gray')\n",
    "plt.show()\n",
    "medianBlur = cv2.medianBlur(imgs, 5) \n",
    "plt.imshow(medianBlur, cmap='gray')\n",
    "plt.show()\n",
    "# Canny算子求得图像边缘\n",
    "edges = cv2.Canny(medianBlur, 50, 150, apertureSize = 3)\n",
    "plt.imshow(edges, cmap='gray')\n",
    "plt.show()"
   ]
  },
  {
   "cell_type": "markdown",
   "metadata": {},
   "source": [
    "- [苹果推出高精度手写识别系统，可准确识别3万字符集](https://cloud.tencent.com/developer/article/1073479)"
   ]
  }
 ],
 "metadata": {
  "kernelspec": {
   "display_name": "Python 3",
   "language": "python",
   "name": "python3"
  },
  "language_info": {
   "codemirror_mode": {
    "name": "ipython",
    "version": 3
   },
   "file_extension": ".py",
   "mimetype": "text/x-python",
   "name": "python",
   "nbconvert_exporter": "python",
   "pygments_lexer": "ipython3",
   "version": "3.7.4"
  }
 },
 "nbformat": 4,
 "nbformat_minor": 2
}
